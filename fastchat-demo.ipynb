{
 "cells": [
  {
   "cell_type": "markdown",
   "id": "0c92bd3d-4cb4-4d3c-8b61-a35e7680b439",
   "metadata": {},
   "source": [
    "# FastChat Demo\n",
    "This notebook uses the [OpenAI REST API](https://platform.openai.com/docs/api-reference/introduction) to interact with LLMs hosted in a [FastChat](https://github.com/lm-sys/FastChat) deployment.\n",
    "FastChat only supports chat completion and embeddings API endpoints.\n",
    "For use on [jupyterhub.sdsu.edu](jupyterhub.sdsu.edu) select the image \"Stack PRP\". The Stack PRP image and FastChat both use Open AI API v0.28.1.\n",
    "\n",
    "The OpenAI REST API endpoint is availbale at [https://sdsu-rci-fastchat.nrp-nautilus.io/v1](https://sdsu-rci-fastchat.nrp-nautilus.io/v1).\n",
    "\n",
    "Your credentials should be stored in a file `env.yaml`. The API key will be shared with you via your instructor. Your `env.yaml` file should mimic the structure of the provided sample `env-template.yaml`."
   ]
  },
  {
   "cell_type": "code",
   "execution_count": 1,
   "id": "dbc422fa-e077-433c-9f05-9a2fe4868eae",
   "metadata": {},
   "outputs": [],
   "source": [
    "import yaml\n",
    "import openai"
   ]
  },
  {
   "cell_type": "markdown",
   "id": "e9f26e0f-85ad-42a4-83d8-9fcb7bef1359",
   "metadata": {},
   "source": [
    "## Import Environment Variables"
   ]
  },
  {
   "cell_type": "code",
   "execution_count": 2,
   "id": "77e175a3-b648-4774-8a7b-85eb7ff90cf9",
   "metadata": {},
   "outputs": [
    {
     "name": "stdout",
     "output_type": "stream",
     "text": [
      "https://sdsu-rci-fastchat.nrp-nautilus.io/v1\n"
     ]
    }
   ],
   "source": [
    "with open('env.yaml', 'r') as f:\n",
    "    env = yaml.safe_load(f)\n",
    "\n",
    "print(env[\"fastchat\"][\"base_url\"])"
   ]
  },
  {
   "cell_type": "markdown",
   "id": "39cab1a9-14f3-4407-8694-eb12438f9276",
   "metadata": {},
   "source": [
    "## Setup API Credentials"
   ]
  },
  {
   "cell_type": "code",
   "execution_count": 3,
   "id": "3c120c37-7460-4f45-884a-bb6d983b7c8c",
   "metadata": {},
   "outputs": [
    {
     "name": "stdout",
     "output_type": "stream",
     "text": [
      "{\n",
      "  \"object\": \"list\",\n",
      "  \"data\": [\n",
      "    {\n",
      "      \"id\": \"vicuna-13b-v1.5-16k\",\n",
      "      \"object\": \"model\",\n",
      "      \"created\": 1707159525,\n",
      "      \"owned_by\": \"fastchat\",\n",
      "      \"root\": \"vicuna-13b-v1.5-16k\",\n",
      "      \"parent\": null,\n",
      "      \"permission\": [\n",
      "        {\n",
      "          \"id\": \"modelperm-3fjHVDjzgyi93QTtdhSJeH\",\n",
      "          \"object\": \"model_permission\",\n",
      "          \"created\": 1707159525,\n",
      "          \"allow_create_engine\": false,\n",
      "          \"allow_sampling\": true,\n",
      "          \"allow_logprobs\": true,\n",
      "          \"allow_search_indices\": true,\n",
      "          \"allow_view\": true,\n",
      "          \"allow_fine_tuning\": false,\n",
      "          \"organization\": \"*\",\n",
      "          \"group\": null,\n",
      "          \"is_blocking\": false\n",
      "        }\n",
      "      ]\n",
      "    },\n",
      "    {\n",
      "      \"id\": \"vicuna-33b-v1.3\",\n",
      "      \"object\": \"model\",\n",
      "      \"created\": 1707159525,\n",
      "      \"owned_by\": \"fastchat\",\n",
      "      \"root\": \"vicuna-33b-v1.3\",\n",
      "      \"parent\": null,\n",
      "      \"permission\": [\n",
      "        {\n",
      "          \"id\": \"modelperm-3Ybrsfxti7K6jZvRwSsTNv\",\n",
      "          \"object\": \"model_permission\",\n",
      "          \"created\": 1707159525,\n",
      "          \"allow_create_engine\": false,\n",
      "          \"allow_sampling\": true,\n",
      "          \"allow_logprobs\": true,\n",
      "          \"allow_search_indices\": true,\n",
      "          \"allow_view\": true,\n",
      "          \"allow_fine_tuning\": false,\n",
      "          \"organization\": \"*\",\n",
      "          \"group\": null,\n",
      "          \"is_blocking\": false\n",
      "        }\n",
      "      ]\n",
      "    }\n",
      "  ]\n",
      "}\n"
     ]
    }
   ],
   "source": [
    "openai.api_key = env[\"fastchat\"][\"api_key\"]\n",
    "openai.api_base = env[\"fastchat\"][\"base_url\"]\n",
    "\n",
    "# Test config by printing available models\n",
    "models = openai.Model.list()\n",
    "print(models)"
   ]
  },
  {
   "cell_type": "code",
   "execution_count": null,
   "id": "266411d7-f509-44cb-8b41-2c6f6b86ebd3",
   "metadata": {},
   "outputs": [],
   "source": [
    "# Model can be replaced with the model id from the previous call\n",
    "model = \"vicuna-33b-v1.3\"\n",
    "prompt = transcript\n",
    "\n",
    "# create a chat completion\n",
    "completion = openai.ChatCompletion.create(\n",
    "  model=model,\n",
    "  messages=[\n",
    "      {\"role\": \"system\", \"content\": \"You will be given a meeting transcript. From this transcript: Provide the top 3 items discussed. Provide a short 2 or 3 sentence summary. Provide 3 action items.\"},\n",
    "      {\"role\": \"user\", \"content\": prompt}\n",
    "  ]\n",
    ")\n",
    "\n",
    "# print the completion\n",
    "print(completion.choices[0].message.content)"
   ]
  }
 ],
 "metadata": {
  "kernelspec": {
   "display_name": "Python 3 (ipykernel)",
   "language": "python",
   "name": "python3"
  },
  "language_info": {
   "codemirror_mode": {
    "name": "ipython",
    "version": 3
   },
   "file_extension": ".py",
   "mimetype": "text/x-python",
   "name": "python",
   "nbconvert_exporter": "python",
   "pygments_lexer": "ipython3",
   "version": "3.11.5"
  }
 },
 "nbformat": 4,
 "nbformat_minor": 5
}
